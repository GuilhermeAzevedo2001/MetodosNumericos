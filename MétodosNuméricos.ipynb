{
  "nbformat": 4,
  "nbformat_minor": 0,
  "metadata": {
    "colab": {
      "provenance": [],
      "include_colab_link": true
    },
    "kernelspec": {
      "name": "python3",
      "display_name": "Python 3"
    },
    "language_info": {
      "name": "python"
    }
  },
  "cells": [
    {
      "cell_type": "markdown",
      "metadata": {
        "id": "view-in-github",
        "colab_type": "text"
      },
      "source": [
        "<a href=\"https://colab.research.google.com/github/GuilhermeAzevedo2001/MetodosNumericos/blob/main/M%C3%A9todosNum%C3%A9ricos.ipynb\" target=\"_parent\"><img src=\"https://colab.research.google.com/assets/colab-badge.svg\" alt=\"Open In Colab\"/></a>"
      ]
    },
    {
      "cell_type": "markdown",
      "metadata": {
        "id": "pPGh7-RDKS_u"
      },
      "source": [
        "##**Projeto Prático - SME0602 -**"
      ]
    },
    {
      "cell_type": "markdown",
      "metadata": {
        "id": "mMzajoqlLXwj"
      },
      "source": [
        "Grupo:\n",
        "\n",
        "Gabriel Avelar Las Casas Rebelo nº USP: 11800462\n",
        "\n",
        "Gabriel Vinícius dos Santos nº USP: 11819424\n",
        "\n",
        "Guilherme Azevedo Escudeiro nº USP: 11345600\n",
        "\n",
        "Lucas Fernandes Martins nº USP: 11800389"
      ]
    },
    {
      "cell_type": "markdown",
      "metadata": {
        "id": "UN45upals_c0"
      },
      "source": [
        "##**Exercício 1**##\n",
        "\n",
        "De início, implementam-se as rotinas de interpolação a serem utilizadas. Para esse exercício, foi eleito o Polinômio de Lagrange para realizar as interpolações solicitadas."
      ]
    },
    {
      "cell_type": "code",
      "metadata": {
        "id": "M_a86h8q8HfR"
      },
      "source": [
        "import numpy as np\n",
        "\n",
        "#Funcao a ser interpolada\n",
        "def f(x):\n",
        "  return 1/(1+25*(x**2))\n",
        "\n",
        "#Calcula pontos de interpolacao\n",
        "def calc_points(k):\n",
        "  points = list()\n",
        "  for i in range(k+1):\n",
        "    points.append(-1+(2*i/k))\n",
        "  return points\n",
        "\n",
        "#Polinomio interpolador de Lagrange\n",
        "def lagrange_g(points, x_nodes, y_values):\n",
        "  pol = np.zeros(len(x_nodes))\n",
        "  for (i, x) in enumerate(x_nodes):\n",
        "    for (j, p) in enumerate(points):\n",
        "      #Calcula l(p)\n",
        "      l = 1\n",
        "      for (k, x_) in enumerate(points):\n",
        "        if k != j:\n",
        "          l *= (x - x_)/(p - x_)\n",
        "\n",
        "      pol[i] += l*y_values[j]\n",
        "\n",
        "  return pol\n",
        "#Numero de pontos de interpolação\n",
        "k = 12\n",
        "\n",
        "#Número de pontos de avaliação da função\n",
        "n = 200\n",
        "\n",
        "points = calc_points(k)\n",
        "\n",
        "x_nodes = np.linspace(-1, 1, num=n)\n",
        "\n",
        "y_values = [f(x) for x in points]\n",
        "\n",
        "f_values = [f(x) for x in x_nodes]\n",
        "\n",
        "lagrange = lagrange_g(points, x_nodes, y_values)"
      ],
      "execution_count": null,
      "outputs": []
    },
    {
      "cell_type": "markdown",
      "metadata": {
        "id": "syRla88zsYW3"
      },
      "source": [
        "A partir desse polinomio encontrado podemos aplicar um conjunto de pontos de modo que seu valor se aproxime da função desejada. A seguir seguem a comparação dos valores desses pontos aplicados na função e no polinômio, respectivamente."
      ]
    },
    {
      "cell_type": "code",
      "metadata": {
        "colab": {
          "base_uri": "https://localhost:8080/"
        },
        "id": "_yI2oyi9B_Uc",
        "outputId": "80760717-8dfe-40e9-ac3d-3edf27d4a5fb"
      },
      "source": [
        "#Verificar os valores numéricos obtidos para o polinômio interpolador\n",
        "for (y, l) in zip(f_values, lagrange):\n",
        "  print(f\"Função no ponto: {y} Aproximação via Interpolação: {l}\")"
      ],
      "execution_count": null,
      "outputs": [
        {
          "output_type": "stream",
          "text": [
            "Função no ponto: 0.038461538461538464 Aproximação via Interpolação: 0.038461538461538464\n",
            "Função no ponto: 0.039215666857458614 Aproximação via Interpolação: -1.5756985940331931\n",
            "Função no ponto: 0.03999188064138893 Aproximação via Interpolação: -2.6391269706237224\n",
            "Função no ponto: 0.04079103773487731 Aproximação via Interpolação: -3.2698303692086594\n",
            "Função no ponto: 0.04161403744748462 Aproximação via Interpolação: -3.5669083079110946\n",
            "Função no ponto: 0.04246182285289065 Aproximação via Interpolação: -3.612935387712691\n",
            "Função no ponto: 0.04333538332242681 Aproximação via Interpolação: -3.476103959083891\n",
            "Função no ponto: 0.04423575722778382 Aproximação via Interpolação: -3.212146322660445\n",
            "Função no ponto: 0.04516403482560964 Aproximação via Interpolação: -2.86605446644352\n",
            "Função no ponto: 0.04612136133776522 Aproximação via Interpolação: -2.4736141921149395\n",
            "Função no ponto: 0.047108940242152876 Aproximação via Interpolação: -2.062769388883781\n",
            "Função no ponto: 0.048128036790281305 Aproximação via Interpolação: -1.6548311728812828\n",
            "Função no ponto: 0.0491799817690934 Aproximação via Interpolação: -1.2655456216056953\n",
            "Função no ponto: 0.05026617552606794 Aproximação via Interpolação: -0.9060328944402859\n",
            "Função no ponto: 0.05138809227822575 Aproximação via Interpolação: -0.5836096400180607\n",
            "Função no ponto: 0.05254728472743774 Aproximação via Interpolação: -0.3025057474222801\n",
            "Função no ponto: 0.05374538900635971 Aproximação via Interpolação: -0.06448569916832682\n",
            "Função no ponto: 0.0549841299814225 Aproximação via Interpolação: 0.13061597207303374\n",
            "Função no ponto: 0.056265326941602044 Aproximação via Interpolação: 0.28443633562070997\n",
            "Função no ponto: 0.057590899704199665 Aproximação via Interpolação: 0.3996947111636026\n",
            "Função no ponto: 0.058962875171598476 Aproximação via Interpolação: 0.47986483725117574\n",
            "Função no ponto: 0.06038339437594728 Aproximação via Interpolação: 0.52890168355256\n",
            "Função no ponto: 0.061854720051981664 Aproximação via Interpolação: 0.5510165950876355\n",
            "Função no ponto: 0.06337924478174724 Aproximação via Interpolação: 0.5504949873883295\n",
            "Função no ponto: 0.06495949975886854 Aproximação via Interpolação: 0.5315513099238732\n",
            "Função no ponto: 0.06659816422423506 Aproximação via Interpolação: 0.49821646249363644\n",
            "Função no ponto: 0.06829807562958543 Aproximação via Interpolação: 0.4542532869923844\n",
            "Função no ponto: 0.07006224059048949 Aproximação via Interpolação: 0.40309616628674205\n",
            "Função no ponto: 0.07189384669568975 Aproximação via Interpolação: 0.34781114417337694\n",
            "Função no ponto: 0.07379627524570184 Aproximação via Interpolação: 0.2910733367494974\n",
            "Função no ponto: 0.07577311500001914 Aproximação via Interpolação: 0.2351587372099258\n",
            "Função no ponto: 0.07782817701925608 Aproximação via Interpolação: 0.18194782425378372\n",
            "Função no ponto: 0.07996551069612663 Aproximação via Interpolação: 0.13293867006499455\n",
            "Função no ponto: 0.08218942107731836 Aproximação via Interpolação: 0.08926750831866985\n",
            "Função no ponto: 0.08450448758711637 Aproximação via Interpolação: 0.05173496692124083\n",
            "Função no ponto: 0.08691558427306606 Aproximação via Interpolação: 0.02083639524479966\n",
            "Função no ponto: 0.0894279017040553 Aproximação via Interpolação: -0.003205077537446446\n",
            "Função no ponto: 0.09204697066193118 Aproximação via Interpolação: -0.02040392680201376\n",
            "Função no ponto: 0.09477868777912336 Aproximação via Interpolação: -0.0309770600001926\n",
            "Função no ponto: 0.09762934328667296 Aproximação via Interpolação: -0.03530892994808664\n",
            "Função no ponto: 0.10060565104947335 Aproximação via Interpolação: -0.03391763310370757\n",
            "Função no ponto: 0.10371478107829221 Aproximação via Interpolação: -0.027422562368769096\n",
            "Função no ponto: 0.1069643947210623 Aproximação via Interpolação: -0.016514067137533315\n",
            "Função no ponto: 0.11036268274874173 Aproximação via Interpolação: -0.001925468582663275\n",
            "Função no ponto: 0.11391840656337561 Aproximação via Interpolação: 0.015592315239755534\n",
            "Função no ponto: 0.11764094276734414 Aproximação via Interpolação: 0.035293362697217265\n",
            "Função no ponto: 0.12154033134249569 Aproximação via Interpolação: 0.05645646145319976\n",
            "Função no ponto: 0.12562732769505056 Aproximação via Interpolação: 0.07840190576535004\n",
            "Função no ponto: 0.12991345882569072 Aproximação via Interpolação: 0.10050539821165264\n",
            "Função no ponto: 0.1344110838826173 Aproximação via Interpolação: 0.12220912304721052\n",
            "Função no ponto: 0.1391334593466514 Aproximação via Interpolação: 0.14303009825180024\n",
            "Função no ponto: 0.1440948090791992 Aproximação via Interpolação: 0.16256594641644762\n",
            "Função no ponto: 0.14931039943293645 Aproximação via Interpolação: 0.180498251484802\n",
            "Função no ponto: 0.15479661957736898 Aproximação via Interpolação: 0.1965936895369578\n",
            "Função no ponto: 0.16057106712187685 Aproximação via Interpolação: 0.21070313778078892\n",
            "Função no ponto: 0.16665263902098257 Aproximação via Interpolação: 0.22275897717695833\n",
            "Função no ponto: 0.17306162761224686 Aproximação via Interpolação: 0.2327708111239578\n",
            "Função no ponto: 0.17981982145614053 Aproximação via Interpolação: 0.24081982580201458\n",
            "Função no ponto: 0.1869506104066545 Aproximação via Interpolação: 0.2470520175309507\n",
            "Função no ponto: 0.19447909402532096 Aproximação via Interpolação: 0.25167050922725076\n",
            "Função no ponto: 0.20243219203991292 Aproximação via Interpolação: 0.25492717211899246\n",
            "Função no ponto: 0.2108387550179421 Aproximação via Interpolação: 0.25711376064295377\n",
            "Função no ponto: 0.21972967274422114 Aproximação via Interpolação: 0.25855275823511054\n",
            "Função no ponto: 0.22913797692476823 Aproximação via Interpolação: 0.2595881198435973\n",
            "Função no ponto: 0.2390989337422868 Aproximação via Interpolação: 0.26057608373258595\n",
            "Função no ponto: 0.24965012040901244 Aproximação via Interpolação: 0.26187621077865236\n",
            "Função no ponto: 0.2608314781394491 Aproximação via Interpolação: 0.2638427942420655\n",
            "Função no ponto: 0.2726853318276342 Aproximação via Interpolação: 0.26681676716060676\n",
            "Função no ponto: 0.28525636408165617 Aproximação via Interpolação: 0.2711182182823269\n",
            "Função no ponto: 0.2985915280563389 Aproximação via Interpolação: 0.2770396110288136\n",
            "Função no ponto: 0.3127398796455705 Aproximação via Interpolação: 0.28483978354857\n",
            "Função no ponto: 0.3277523049674739 Aproximação via Interpolação: 0.2947387916517684\n",
            "Função no ponto: 0.34368111363754705 Aproximação via Interpolação: 0.30691364046843217\n",
            "Função no ponto: 0.36057946205816466 Aproximação via Interpolação: 0.3214949351827147\n",
            "Função no ponto: 0.37850056391336767 Aproximação via Interpolação: 0.3385644662926993\n",
            "Função no ponto: 0.3974966374239657 Aproximação via Interpolação: 0.35815373064052314\n",
            "Função no ponto: 0.4176175310568831 Aproximação via Interpolação: 0.380243376050623\n",
            "Função no ponto: 0.4389089619400174 Aproximação via Interpolação: 0.40476354489060895\n",
            "Função no ponto: 0.4614102952485262 Aproximação via Interpolação: 0.4315950803032473\n",
            "Função no ponto: 0.4851517898708744 Aproximação via Interpolação: 0.4605715483108404\n",
            "Função no ponto: 0.5101512379872724 Aproximação via Interpolação: 0.49148201951484705\n",
            "Função no ponto: 0.5364099368786064 Aproximação via Interpolação: 0.524074545742797\n",
            "Função no ponto: 0.5639079543189133 Aproximação via Interpolação: 0.5580602597596289\n",
            "Função no ponto: 0.5925986891329723 Aproximação via Interpolação: 0.5931180200794925\n",
            "Função no ponto: 0.6224027913117279 Aproximação via Interpolação: 0.6288995179951992\n",
            "Função no ponto: 0.6532015966746941 Aproximação via Interpolação: 0.6650347601848696\n",
            "Função no ponto: 0.6848303531283505 Aproximação via Interpolação: 0.7011378376491847\n",
            "Função no ponto: 0.7170716691413465 Aproximação via Interpolação: 0.7368128902599628\n",
            "Função no ponto: 0.749649793662212 Aproximação via Interpolação: 0.7716601758355337\n",
            "Função no ponto: 0.7822265239205151 Aproximação via Interpolação: 0.8052821533673418\n",
            "Função no ponto: 0.8143997038621315 Aproximação via Interpolação: 0.8372894917649466\n",
            "Função no ponto: 0.845705377354461 Aproximação via Interpolação: 0.8673069182164512\n",
            "Função no ponto: 0.8756246406934064 Aproximação via Interpolação: 0.8949788239255512\n",
            "Função no ponto: 0.9035960388810296 Aproximação via Interpolação: 0.9199745495264491\n",
            "Função no ponto: 0.9290339229578192 Aproximação via Interpolação: 0.9419932778305543\n",
            "Função no ponto: 0.9513525200595782 Aproximação via Interpolação: 0.9607684676559088\n",
            "Função no ponto: 0.9699946112771273 Aproximação via Interpolação: 0.9760717692596297\n",
            "Função no ponto: 0.9844627852632625 Aproximação via Interpolação: 0.98771636925925\n",
            "Função no ponto: 0.9943504243459047 Aproximação via Interpolação: 0.9955597208115993\n",
            "Função no ponto: 0.9993691010952406 Aproximação via Interpolação: 0.9995056231357978\n",
            "Função no ponto: 0.9993691010952406 Aproximação via Interpolação: 0.9995056231357978\n",
            "Função no ponto: 0.9943504243459047 Aproximação via Interpolação: 0.9955597208115992\n",
            "Função no ponto: 0.9844627852632625 Aproximação via Interpolação: 0.9877163692592497\n",
            "Função no ponto: 0.9699946112771273 Aproximação via Interpolação: 0.9760717692596297\n",
            "Função no ponto: 0.9513525200595779 Aproximação via Interpolação: 0.9607684676559088\n",
            "Função no ponto: 0.9290339229578193 Aproximação via Interpolação: 0.9419932778305548\n",
            "Função no ponto: 0.9035960388810296 Aproximação via Interpolação: 0.9199745495264491\n",
            "Função no ponto: 0.8756246406934064 Aproximação via Interpolação: 0.8949788239255512\n",
            "Função no ponto: 0.845705377354461 Aproximação via Interpolação: 0.8673069182164515\n",
            "Função no ponto: 0.814399703862131 Aproximação via Interpolação: 0.8372894917649464\n",
            "Função no ponto: 0.7822265239205148 Aproximação via Interpolação: 0.8052821533673414\n",
            "Função no ponto: 0.749649793662212 Aproximação via Interpolação: 0.7716601758355335\n",
            "Função no ponto: 0.7170716691413465 Aproximação via Interpolação: 0.7368128902599628\n",
            "Função no ponto: 0.6848303531283505 Aproximação via Interpolação: 0.7011378376491848\n",
            "Função no ponto: 0.6532015966746938 Aproximação via Interpolação: 0.6650347601848693\n",
            "Função no ponto: 0.6224027913117275 Aproximação via Interpolação: 0.628899517995199\n",
            "Função no ponto: 0.5925986891329723 Aproximação via Interpolação: 0.5931180200794929\n",
            "Função no ponto: 0.5639079543189133 Aproximação via Interpolação: 0.5580602597596295\n",
            "Função no ponto: 0.5364099368786064 Aproximação via Interpolação: 0.524074545742797\n",
            "Função no ponto: 0.5101512379872721 Aproximação via Interpolação: 0.4914820195148466\n",
            "Função no ponto: 0.48515178987087415 Aproximação via Interpolação: 0.46057154831084024\n",
            "Função no ponto: 0.4614102952485262 Aproximação via Interpolação: 0.43159508030324717\n",
            "Função no ponto: 0.4389089619400174 Aproximação via Interpolação: 0.40476354489060906\n",
            "Função no ponto: 0.4176175310568831 Aproximação via Interpolação: 0.38024337605062325\n",
            "Função no ponto: 0.39749663742396546 Aproximação via Interpolação: 0.35815373064052325\n",
            "Função no ponto: 0.3785005639133674 Aproximação via Interpolação: 0.33856446629269915\n",
            "Função no ponto: 0.3605794620581648 Aproximação via Interpolação: 0.321494935182715\n",
            "Função no ponto: 0.34368111363754705 Aproximação via Interpolação: 0.30691364046843245\n",
            "Função no ponto: 0.3277523049674739 Aproximação via Interpolação: 0.2947387916517684\n",
            "Função no ponto: 0.3127398796455703 Aproximação via Interpolação: 0.28483978354857004\n",
            "Função no ponto: 0.2985915280563387 Aproximação via Interpolação: 0.2770396110288135\n",
            "Função no ponto: 0.2852563640816563 Aproximação via Interpolação: 0.271118218282327\n",
            "Função no ponto: 0.2726853318276342 Aproximação via Interpolação: 0.26681676716060676\n",
            "Função no ponto: 0.2608314781394491 Aproximação via Interpolação: 0.2638427942420656\n",
            "Função no ponto: 0.24965012040901233 Aproximação via Interpolação: 0.26187621077865253\n",
            "Função no ponto: 0.23909893374228672 Aproximação via Interpolação: 0.2605760837325859\n",
            "Função no ponto: 0.22913797692476834 Aproximação via Interpolação: 0.2595881198435973\n",
            "Função no ponto: 0.21972967274422114 Aproximação via Interpolação: 0.25855275823511087\n",
            "Função no ponto: 0.2108387550179421 Aproximação via Interpolação: 0.25711376064295377\n",
            "Função no ponto: 0.2024321920399128 Aproximação via Interpolação: 0.2549271721189926\n",
            "Função no ponto: 0.19447909402532085 Aproximação via Interpolação: 0.2516705092272505\n",
            "Função no ponto: 0.18695061040665456 Aproximação via Interpolação: 0.24705201753095077\n",
            "Função no ponto: 0.17981982145614053 Aproximação via Interpolação: 0.2408198258020147\n",
            "Função no ponto: 0.17306162761224686 Aproximação via Interpolação: 0.232770811123958\n",
            "Função no ponto: 0.1666526390209825 Aproximação via Interpolação: 0.22275897717695828\n",
            "Função no ponto: 0.1605710671218768 Aproximação via Interpolação: 0.21070313778078867\n",
            "Função no ponto: 0.15479661957736904 Aproximação via Interpolação: 0.19659368953695802\n",
            "Função no ponto: 0.14931039943293645 Aproximação via Interpolação: 0.1804982514848021\n",
            "Função no ponto: 0.1440948090791992 Aproximação via Interpolação: 0.1625659464164476\n",
            "Função no ponto: 0.1391334593466514 Aproximação via Interpolação: 0.14303009825180024\n",
            "Função no ponto: 0.13441108388261724 Aproximação via Interpolação: 0.12220912304721038\n",
            "Função no ponto: 0.12991345882569066 Aproximação via Interpolação: 0.10050539821165232\n",
            "Função no ponto: 0.12562732769505056 Aproximação via Interpolação: 0.07840190576534996\n",
            "Função no ponto: 0.12154033134249569 Aproximação via Interpolação: 0.056456461453199616\n",
            "Função no ponto: 0.11764094276734414 Aproximação via Interpolação: 0.03529336269721731\n",
            "Função no ponto: 0.11391840656337557 Aproximação via Interpolação: 0.015592315239755508\n",
            "Função no ponto: 0.1103626827487417 Aproximação via Interpolação: -0.0019254685826634928\n",
            "Função no ponto: 0.1069643947210623 Aproximação via Interpolação: -0.016514067137533367\n",
            "Função no ponto: 0.10371478107829221 Aproximação via Interpolação: -0.02742256236876883\n",
            "Função no ponto: 0.10060565104947335 Aproximação via Interpolação: -0.03391763310370811\n",
            "Função no ponto: 0.09762934328667293 Aproximação via Interpolação: -0.03530892994808603\n",
            "Função no ponto: 0.09477868777912334 Aproximação via Interpolação: -0.030977060000192624\n",
            "Função no ponto: 0.09204697066193118 Aproximação via Interpolação: -0.020403926802013854\n",
            "Função no ponto: 0.0894279017040553 Aproximação via Interpolação: -0.003205077537446235\n",
            "Função no ponto: 0.08691558427306606 Aproximação via Interpolação: 0.02083639524479971\n",
            "Função no ponto: 0.08450448758711637 Aproximação via Interpolação: 0.05173496692124086\n",
            "Função no ponto: 0.08218942107731834 Aproximação via Interpolação: 0.08926750831867039\n",
            "Função no ponto: 0.07996551069612663 Aproximação via Interpolação: 0.13293867006499432\n",
            "Função no ponto: 0.07782817701925608 Aproximação via Interpolação: 0.18194782425378386\n",
            "Função no ponto: 0.07577311500001914 Aproximação via Interpolação: 0.2351587372099258\n",
            "Função no ponto: 0.07379627524570184 Aproximação via Interpolação: 0.29107333674949687\n",
            "Função no ponto: 0.07189384669568973 Aproximação via Interpolação: 0.34781114417337766\n",
            "Função no ponto: 0.07006224059048949 Aproximação via Interpolação: 0.40309616628674105\n",
            "Função no ponto: 0.06829807562958543 Aproximação via Interpolação: 0.4542532869923834\n",
            "Função no ponto: 0.06659816422423506 Aproximação via Interpolação: 0.4982164624936359\n",
            "Função no ponto: 0.06495949975886854 Aproximação via Interpolação: 0.5315513099238715\n",
            "Função no ponto: 0.06337924478174722 Aproximação via Interpolação: 0.5504949873883273\n",
            "Função no ponto: 0.061854720051981664 Aproximação via Interpolação: 0.5510165950876342\n",
            "Função no ponto: 0.06038339437594728 Aproximação via Interpolação: 0.5289016835525581\n",
            "Função no ponto: 0.058962875171598476 Aproximação via Interpolação: 0.47986483725117324\n",
            "Função no ponto: 0.057590899704199665 Aproximação via Interpolação: 0.399694711163601\n",
            "Função no ponto: 0.05626532694160203 Aproximação via Interpolação: 0.28443633562070625\n",
            "Função no ponto: 0.054984129981422505 Aproximação via Interpolação: 0.13061597207303347\n",
            "Função no ponto: 0.05374538900635971 Aproximação via Interpolação: -0.06448569916832929\n",
            "Função no ponto: 0.05254728472743774 Aproximação via Interpolação: -0.30250574742228314\n",
            "Função no ponto: 0.05138809227822575 Aproximação via Interpolação: -0.5836096400180636\n",
            "Função no ponto: 0.05026617552606793 Aproximação via Interpolação: -0.9060328944402917\n",
            "Função no ponto: 0.049179981769093405 Aproximação via Interpolação: -1.265545621605692\n",
            "Função no ponto: 0.048128036790281305 Aproximação via Interpolação: -1.6548311728812823\n",
            "Função no ponto: 0.047108940242152876 Aproximação via Interpolação: -2.062769388883787\n",
            "Função no ponto: 0.04612136133776522 Aproximação via Interpolação: -2.4736141921149395\n",
            "Função no ponto: 0.04516403482560963 Aproximação via Interpolação: -2.8660544664435337\n",
            "Função no ponto: 0.04423575722778383 Aproximação via Interpolação: -3.212146322660453\n",
            "Função no ponto: 0.04333538332242681 Aproximação via Interpolação: -3.4761039590838982\n",
            "Função no ponto: 0.04246182285289065 Aproximação via Interpolação: -3.6129353877127044\n",
            "Função no ponto: 0.04161403744748462 Aproximação via Interpolação: -3.566908307911092\n",
            "Função no ponto: 0.0407910377348773 Aproximação via Interpolação: -3.2698303692086537\n",
            "Função no ponto: 0.03999188064138893 Aproximação via Interpolação: -2.6391269706237233\n",
            "Função no ponto: 0.039215666857458614 Aproximação via Interpolação: -1.5756985940331947\n",
            "Função no ponto: 0.038461538461538464 Aproximação via Interpolação: 0.038461538461538464\n"
          ],
          "name": "stdout"
        }
      ]
    },
    {
      "cell_type": "markdown",
      "metadata": {
        "id": "66KE45GUoM32"
      },
      "source": [
        "A partir desse conjunto de pontos, podemos comparar os gráficos da função original e do polinômio aproximador. De fato, conclui-se, como esperado, que os melhores pontos de aproximação estão localizados proximo ao zero\n"
      ]
    },
    {
      "cell_type": "code",
      "metadata": {
        "colab": {
          "base_uri": "https://localhost:8080/",
          "height": 265
        },
        "id": "bVv73lcj9DQ9",
        "outputId": "c2ea1c0d-2ccc-42cc-8611-d6c52e318350"
      },
      "source": [
        "#Plotar gráfico exibindo a função original (em laranja) e o polinômio interpolador (em azul)\n",
        "import matplotlib.pyplot as pp\n",
        "\n",
        "fig, ax = plt.subplots(figsize=(6.5, 4))\n",
        "\n",
        "ax.plot(x_nodes, lagrange, label=\"Polinômio Interpolador\")\n",
        "ax.plot(x_nodes, f_values, label=\"Função original\")\n",
        "ax.legend(loc='lower right', ncol=1)\n",
        "pp.show()"
      ],
      "execution_count": null,
      "outputs": [
        {
          "output_type": "display_data",
          "data": {
            "image/png": "[encoded data removed]",
            "text/plain": [
              "<Figure size 468x288 with 1 Axes>"
            ]
          },
          "metadata": {
            "tags": [],
            "needs_background": "light"
          }
        }
      ]
    },
    {
      "cell_type": "code",
      "metadata": {
        "colab": {
          "base_uri": "https://localhost:8080/"
        },
        "id": "QBdTdXUrOvZT",
        "outputId": "7027caf8-aad8-4f53-fe49-10f0fec8bd08"
      },
      "source": [
        "#Avaliação do erro cometido (para interpolações de 1 ponto até 30)\n",
        "n = 200\n",
        "x_nodes = np.linspace(-1, 1, num=n)\n",
        "f_values = [f(x) for x in x_nodes]\n",
        "max = []\n",
        "for k in range (1, 31):\n",
        "  points = calc_points(k)\n",
        "  y_values = [f(x) for x in points]\n",
        "  lagrange = lagrange_g(points, x_nodes, y_values)\n",
        "  max.append(np.amax(np.abs(np.subtract(lagrange,f_values))))\n",
        "print(max)"
      ],
      "execution_count": null,
      "outputs": [
        {
          "output_type": "stream",
          "text": [
            "[0.9609075626337021, 0.6462154882793217, 0.7063891029897035, 0.43821137368924007, 0.4321051132111724, 0.6165460978102542, 0.2468442785054391, 1.045143324880877, 0.3000958872642873, 1.9155693302903314, 0.5541788160674281, 3.655397210565595, 1.0638641092021128, 7.190769605229046, 2.0979147372741807, 14.328615753930515, 4.220110521325835, 29.134116001749664, 8.52658353683148, 58.514147110447325, 17.301950226505053, 122.93710214704548, 36.324019802936114, 257.2077593966554, 75.75076419822628, 534.7441474256326, 157.03142394385387, 1105.460860843384, 323.76907011730606, 2273.4801914728428]\n"
          ],
          "name": "stdout"
        }
      ]
    },
    {
      "cell_type": "markdown",
      "metadata": {
        "id": "ebP14UXjMH2e"
      },
      "source": [
        "Gostaríamos de plotar o valor do erro máximo obtido para cada número k de pontos de interpolação para k no intervalo [1,30]. Esse gráfico possibilitará estudar como o erro entre o polinômio interpolador e a função original se comporta conforme aumentamos os pontos de interpolação."
      ]
    },
    {
      "cell_type": "code",
      "metadata": {
        "colab": {
          "base_uri": "https://localhost:8080/",
          "height": 320
        },
        "id": "t0VaDye0ofMX",
        "outputId": "baf38cc6-476a-4860-d337-cd9b6a9896f4"
      },
      "source": [
        "pp.figure(figsize=(5,5))\n",
        "pp.plot([k for k in range(1,31)], max, label=\"Erro Máximo Cometido\")\n",
        "pp.legend(loc='upper left', ncol=1)\n",
        "pp.show()"
      ],
      "execution_count": null,
      "outputs": [
        {
          "output_type": "display_data",
          "data": {
            "image/png": "[encoded data removed]",
            "text/plain": [
              "<Figure size 360x360 with 1 Axes>"
            ]
          },
          "metadata": {
            "tags": [],
            "needs_background": "light"
          }
        }
      ]
    },
    {
      "cell_type": "markdown",
      "metadata": {
        "id": "zmtV4BUYqJD1"
      },
      "source": [
        "**Conclusões**\n",
        "\n",
        "Pode-se observar que aumentar os pontos de interpolação do polinômio interpolador (implementado a partir da fórmula de Lagrange, neste trabalho) não amplia a acurácia do polinômio interpolador resultante. Pelo contrário, o gráfico acima possibilita verificar que o aumento dos pontos de interpolação colabora para elevar o erro obtido entre o valor da função original e de seu polinômio de Lagrange.\n",
        "\n",
        "No entanto, é essencial destacar que essa constatação não viola, sob nenhuma hipótese, o Teorema de Weistrass. Isso se deve ao fato de que o Teorema de Weistrass meramente garante a existência de um polinômio $p_{x}$ tal que $$\\lim{k \\to \\infty}{|f(x) - P(x)|} = 0$$, não havendo nenhuma menção sobre a forma específica deste polinômio. Portanto, conclui-se, inequivocamente, que a anomalia detectada neste exercício indica que o polinômio utilizado para interpolação (polinômio de Lagrange) não possui a propriedade de convergência uniforme, sendo, destarte, inócua qualquer tentativa de utilizá-lo para validar o Teorema de Weistrass."
      ]
    },
    {
      "cell_type": "markdown",
      "metadata": {
        "id": "nj-4Jn5gt-Ng"
      },
      "source": [
        "##**Exercício 2**##\n",
        "\n",
        "Como instruído no enunciado, usaremos a biblioteca SciPy para implementar a interpolação por splines cúbicas"
      ]
    },
    {
      "cell_type": "code",
      "metadata": {
        "colab": {
          "base_uri": "https://localhost:8080/",
          "height": 265
        },
        "id": "ccJzLggCuQaL",
        "outputId": "242bb8e8-6a5b-4cb2-f178-7d65ca84ce81"
      },
      "source": [
        "from scipy.interpolate import CubicSpline\n",
        "#Pontos de interpolacao via CubicSpline\n",
        "k_c = 20\n",
        "points_spline = calc_points(k_c)\n",
        "y_values_spline = [f(x) for x in points_spline]\n",
        "interpolator_cs = CubicSpline(points_spline,y_values_spline)\n",
        "\n",
        "interpol_cs = interpolator_cs(x_nodes)\n",
        "\n",
        "pp.plot(x_nodes, f_values)\n",
        "pp.plot(x_nodes, interpol_cs)\n",
        "pp.show()"
      ],
      "execution_count": null,
      "outputs": [
        {
          "output_type": "display_data",
          "data": {
            "image/png": "[encoded data removed]",
            "text/plain": [
              "<Figure size 432x288 with 1 Axes>"
            ]
          },
          "metadata": {
            "tags": [],
            "needs_background": "light"
          }
        }
      ]
    },
    {
      "cell_type": "markdown",
      "metadata": {
        "id": "dDHYniDXNCUF"
      },
      "source": [
        "Acima plotamos o polinômio interpolador e a função f(x) original, evidenciando graficamente que o método das Splines Cúbidas logrou um erro drasticamente menor do que o fornecido via Lagrange."
      ]
    },
    {
      "cell_type": "markdown",
      "metadata": {
        "id": "BkqyBCHGNRtq"
      },
      "source": [
        "Analogamente ao que fizemos para o polinômio de Lagrange, plotaremos um gráfico do erro máximo gerado pela interpolação com k pontos por k, no intervalo [1,30]"
      ]
    },
    {
      "cell_type": "code",
      "metadata": {
        "colab": {
          "base_uri": "https://localhost:8080/",
          "height": 72
        },
        "id": "LjVbPgMp4Nrf",
        "outputId": "01840926-dd5d-475f-9162-3919ce8efb57"
      },
      "source": [
        "#Avaliação do erro cometido (para interoplações de 1 ponto até 30)\n",
        "n = 200\n",
        "f_values = [f(x) for x in x_nodes]\n",
        "x_nodes = np.linspace(-1, 1, num=n)\n",
        "pp.figure(figsize=(20,20))\n",
        "max = []\n",
        "for k in range (1, 31):\n",
        "  points = calc_points(k)\n",
        "  y_values = [f(x) for x in points]\n",
        "  interpolator_cs = CubicSpline(points, y_values)\n",
        "  interpol_cs = interpolator_cs(x_nodes)\n",
        "  max.append(np.amax(np.abs(np.subtract(interpol_cs,f_values))))\n",
        "print(max)"
      ],
      "execution_count": null,
      "outputs": [
        {
          "output_type": "stream",
          "text": [
            "[0.9609075626337021, 0.6462154882793218, 0.7063891029897034, 0.3169135152831144, 0.4309507822105192, 0.132436774496821, 0.24658751182878869, 0.05603380214504372, 0.14248060361177883, 0.021948423872733658, 0.0837672207615825, 0.00690491036521923, 0.05016765764806974, 0.002482231982436467, 0.030652490005381283, 0.003744202731657764, 0.01912103677883359, 0.003711220520726477, 0.012182639157307773, 0.003178841668076471, 0.00792947562550006, 0.0025224905742132764, 0.005272606162943672, 0.0019083055164299534, 0.003580947390998901, 0.0014149192205623606, 0.0024830301319777037, 0.0010366724097017332, 0.0017567312163089266, 0.0008223638169601033]\n"
          ],
          "name": "stdout"
        },
        {
          "output_type": "display_data",
          "data": {
            "text/plain": [
              "<Figure size 1440x1440 with 0 Axes>"
            ]
          },
          "metadata": {
            "tags": []
          }
        }
      ]
    },
    {
      "cell_type": "code",
      "metadata": {
        "colab": {
          "base_uri": "https://localhost:8080/",
          "height": 321
        },
        "id": "9drSTlkW8F9Y",
        "outputId": "fb19a465-c01e-48b0-b28b-75dd85d1cede"
      },
      "source": [
        "pp.figure(figsize=(5,5))\n",
        "pp.plot([k_c for k_c in range(1,31)], max)\n",
        "pp.show()"
      ],
      "execution_count": null,
      "outputs": [
        {
          "output_type": "display_data",
          "data": {
            "image/png": "[encoded data removed]",
            "text/plain": [
              "<Figure size 360x360 with 1 Axes>"
            ]
          },
          "metadata": {
            "tags": [],
            "needs_background": "light"
          }
        }
      ]
    },
    {
      "cell_type": "markdown",
      "metadata": {
        "id": "uNaqlcKxNhSH"
      },
      "source": [
        "**Conclusões**\n",
        "Nota-se o exato oposto do ocorrido com o polinômio de Lagrange: o aumento dos pontos de interpolação, para o método das Splines Cúbicas, implica na redução do erro máximo cometido pelo polinômio interpolador. Conclui-se, portanto, que para a função interpolada nesse exercício, o método das Splines Cúbicas é mais recomendado que a utilização do polinômio interpolador de Lagrange."
      ]
    },
    {
      "cell_type": "markdown",
      "metadata": {
        "id": "JlWNbjyKODDA"
      },
      "source": [
        "Destarte, gostaríamos de aproximar a função do gráfico acima por uma função da forma:\n",
        "\n",
        "$$\n",
        "E(h) = C \\cdot h^{q}\n",
        "$$\n",
        "\n",
        "Estimando valores para as constantes $C$ e $h$.\n",
        "\n",
        "Nesse sentido, podemos utilizar o conhecido Método dos Mínimos Quadrados, tomando uma transformação T (efetivamente é a aplicação de um log) que altere o comportamento dos pontos distribuidos de forma linear\n"
      ]
    },
    {
      "cell_type": "code",
      "metadata": {
        "colab": {
          "base_uri": "https://localhost:8080/"
        },
        "id": "zY5ZeBWPAstr",
        "outputId": "559cd6db-bddf-4135-e9cf-514f0b6d3a81"
      },
      "source": [
        "import numpy as np\n",
        "\n",
        "#Método dos Mínimos quadrados\n",
        "\n",
        "#define as funções\n",
        "def f1(x):\n",
        "  return 1\n",
        "\n",
        "def f2(x):\n",
        "  return x\n",
        "\n",
        "#número de variaveis a serem calculadas\n",
        "\n",
        "h = [2/i for i in range(1,31)]\n",
        "\n",
        "Erro = max\n",
        "\n",
        "h = np.log(h)\n",
        "erro = np.log(Erro)\n",
        "\n",
        "#Ln(Y)=Ln(C)+q*Ln(h)\n",
        "\n",
        "tamanho = len(h)\n",
        "n = 2\n",
        "A = np.zeros((tamanho,n))\n",
        "b = np.zeros((tamanho,1))\n",
        "\n",
        "for i in range(tamanho):\n",
        "    A[i,0]=f1(h[i])\n",
        "    A[i,1]=f2(h[i])\n",
        "    b[i]=erro[i]\n",
        "\n",
        "X1 = np.matmul(A.transpose(), A)\n",
        "X2 = np.matmul(A.transpose(), b)\n",
        "\n",
        "x = np.linalg.solve(X1,X2)\n",
        "\n",
        "print (\"Ln(C) vale: \")\n",
        "print (x[0])\n",
        "print (\"C vale: \")\n",
        "print (np.exp(x[0]))\n",
        "print (\"q vale: \")\n",
        "print (x[1])"
      ],
      "execution_count": null,
      "outputs": [
        {
          "output_type": "stream",
          "text": [
            "Ln(C) vale: \n",
            "[0.21745172]\n",
            "C vale: \n",
            "[1.24290542]\n",
            "q vale: \n",
            "[2.36666602]\n"
          ],
          "name": "stdout"
        }
      ]
    },
    {
      "cell_type": "markdown",
      "metadata": {
        "id": "ZkUAGRpdOW28"
      },
      "source": [
        "Portanto, avalia-se $C = 1.24290542$ e $q = 2.3666602$ \\\n",
        "Por fim, com esses valores da constante \"C\" e expoente \"q\", podemos montar um gráfico que em muito se aproxima do erro estimado no problema"
      ]
    },
    {
      "cell_type": "code",
      "metadata": {
        "colab": {
          "base_uri": "https://localhost:8080/",
          "height": 265
        },
        "id": "rNYlCqtORBdy",
        "outputId": "d6e22213-7a00-43ad-d234-0e02f41f89f9"
      },
      "source": [
        "import numpy as np\n",
        "from scipy.interpolate import CubicSpline\n",
        "import matplotlib.pyplot as plt\n",
        "\n",
        "def chq(t):\n",
        "  return np.exp(x[0])*(t**x[1])\n",
        "\n",
        "fig, ax = plt.subplots(figsize=(6.5, 4))\n",
        "\n",
        "eixo_x= range(4,31)\n",
        "\n",
        "error_fun = [chq(2/i) for i in range(4,31)]\n",
        "\n",
        "ax.plot(eixo_x, max[3:], label='Dis vs Erro')\n",
        "ax.plot(eixo_x, error_fun, label=\"C*h^q\")\n",
        "\n",
        "ax.legend(loc='upper left', ncol=1)\n",
        "plt.show()"
      ],
      "execution_count": null,
      "outputs": [
        {
          "output_type": "display_data",
          "data": {
            "image/png": "[encoded data removed]",
            "text/plain": [
              "<Figure size 468x288 with 1 Axes>"
            ]
          },
          "metadata": {
            "tags": [],
            "needs_background": "light"
          }
        }
      ]
    }
  ]
}