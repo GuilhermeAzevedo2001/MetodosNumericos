{
  "nbformat": 4,
  "nbformat_minor": 0,
  "metadata": {
    "colab": {
      "provenance": [],
      "authorship_tag": "ABX9TyMLOO+qwLmPcDDs7o3N02yZ",
      "include_colab_link": true
    },
    "kernelspec": {
      "name": "python3",
      "display_name": "Python 3"
    },
    "language_info": {
      "name": "python"
    }
  },
  "cells": [
    {
      "cell_type": "markdown",
      "metadata": {
        "id": "view-in-github",
        "colab_type": "text"
      },
      "source": [
        "<a href=\"https://colab.research.google.com/github/GuilhermeAzevedo2001/MetodosNumericos/blob/main/Newton_Raphson.ipynb\" target=\"_parent\"><img src=\"https://colab.research.google.com/assets/colab-badge.svg\" alt=\"Open In Colab\"/></a>"
      ]
    },
    {
      "cell_type": "code",
      "execution_count": null,
      "metadata": {
        "colab": {
          "base_uri": "https://localhost:8080/"
        },
        "id": "40NL9OYcyEFD",
        "outputId": "9e7bb06b-4125-4435-9675-8dbacf62ea65"
      },
      "outputs": [
        {
          "output_type": "stream",
          "name": "stdout",
          "text": [
            "Solução aproximada: 32.666666666666664\n"
          ]
        }
      ],
      "source": [
        "import math\n",
        "from scipy.optimize import fsolve\n",
        "\n",
        "def equation(t):\n",
        "    return 30 * t - 20 * math.exp(-3 * t) - 980\n",
        "\n",
        "# Utilizamos a função fsolve para encontrar a solução numérica\n",
        "solution = fsolve(equation, 0)\n",
        "\n",
        "print(\"Solução aproximada:\", solution[0])"
      ]
    },
    {
      "cell_type": "markdown",
      "source": [
        "Exercício e)"
      ],
      "metadata": {
        "id": "6aS4WrCe43UF"
      }
    },
    {
      "cell_type": "code",
      "source": [
        "import math\n",
        "\n",
        "def equation(t):\n",
        "    return 30 * t - 20 * math.exp(-3 * t) - 980\n",
        "\n",
        "def derivative(t):\n",
        "    return 30 + 60 * math.exp(-3 * t)\n",
        "\n",
        "def newton_raphson_method(initial_guess, tolerance, max_iterations):\n",
        "    t = initial_guess\n",
        "    for i in range(max_iterations):\n",
        "        f = equation(t)\n",
        "        f_prime = derivative(t)\n",
        "        t -= f / f_prime\n",
        "        if abs(f) < tolerance:\n",
        "            return t\n",
        "    return None\n",
        "\n",
        "# Definir o chute inicial, tolerância e número máximo de iterações\n",
        "initial_guess = 0\n",
        "tolerance = 1e-6\n",
        "max_iterations = 100\n",
        "\n",
        "# Chamar o método de Newton-Raphson para obter uma solução aproximada\n",
        "approximate_solution = newton_raphson_method(initial_guess, tolerance, max_iterations)\n",
        "\n",
        "if approximate_solution is not None:\n",
        "    print(\"Solução aproximada:\", approximate_solution)\n",
        "else:\n",
        "    print(\"Não foi possível encontrar uma solução dentro do número máximo de iterações.\")\n"
      ],
      "metadata": {
        "colab": {
          "base_uri": "https://localhost:8080/"
        },
        "id": "D4XEQYR4y-nQ",
        "outputId": "05737986-db72-4a1c-8abf-61c376ade657"
      },
      "execution_count": null,
      "outputs": [
        {
          "output_type": "stream",
          "name": "stdout",
          "text": [
            "Solução aproximada: 32.666666666666664\n"
          ]
        }
      ]
    }
  ]
}